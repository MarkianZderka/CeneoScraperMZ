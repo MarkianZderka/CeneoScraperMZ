{
 "cells": [
  {
   "attachments": {},
   "cell_type": "markdown",
   "metadata": {},
   "source": [
    "# Ceneo Scraper"
   ]
  },
  {
   "attachments": {},
   "cell_type": "markdown",
   "metadata": {},
   "source": [
    "## Imports"
   ]
  },
  {
   "cell_type": "code",
   "execution_count": 158,
   "metadata": {},
   "outputs": [],
   "source": [
    "import os\n",
    "import json\n",
    "import requests\n",
    "from bs4 import BeautifulSoup"
   ]
  },
  {
   "attachments": {},
   "cell_type": "markdown",
   "metadata": {},
   "source": [
    "## Definition of extraction function"
   ]
  },
  {
   "cell_type": "code",
   "execution_count": 159,
   "metadata": {},
   "outputs": [],
   "source": [
    "def extract_content(ancestor,selector=None, attribute=None,return_list=False): \n",
    "    if selector: \n",
    " \n",
    "        if return_list: \n",
    "            if attribute: \n",
    "                return [tag[attribute].strip() for tag in ancestor.select(selector)] \n",
    "            return [tag.text.strip() for tag in ancestor.select(selector)] \n",
    "        if attribute: \n",
    "            try: \n",
    " \n",
    "                return ancestor.select_one(selector)[attribute].strip() \n",
    "            except TypeError: \n",
    "                return None \n",
    "        try: \n",
    "            return ancestor.select_one(selector).text.strip() \n",
    "        except AttributeError: \n",
    "            return None \n",
    "        return ancestor.select_one(selector).text.strip() \n",
    "    if attribute: \n",
    " \n",
    "        return ancestor[attribute] \n",
    "    return ancestor.text.strip()"
   ]
  },
  {
   "attachments": {},
   "cell_type": "markdown",
   "metadata": {},
   "source": [
    "## Opinion structure"
   ]
  },
  {
   "cell_type": "code",
   "execution_count": 160,
   "metadata": {},
   "outputs": [],
   "source": [
    "selectors= { \n",
    "\"opinion_id\": (None,'data-entry-id'), \n",
    "\"author\": (\"span.user-post__author-name\",), \n",
    "\"authors_recommendation\": (\"span.user-post__author-recomendation > em\",), \n",
    "\"stars\": (\"span.user-post__score-count\",), \n",
    "\"content\": (\"div.user-post__text\",), \n",
    "\"pros\": (\"div.review-feature__title--positives ~ div.review-feature__item\",None , True), \n",
    "\"cons\": (\"div.review-feature__title--negatives ~ div.review-feature__item\", None, True), \n",
    "\"helpful\": (\"button.vote-yes > span\",), \n",
    "\"unhelpful\": (\"button.vote-no > span\",), \n",
    "\"publish_date\": (\"span.user-post__published > time:nth-child(1)\",\"datetime\"), \n",
    "\"purchase_date\": (\"span.user-post__published > time:nth-child(2)\",\"datetime\"), \n",
    "}"
   ]
  },
  {
   "cell_type": "markdown",
   "metadata": {},
   "source": [
    "# Transformation function"
   ]
  },
  {
   "cell_type": "code",
   "execution_count": 161,
   "metadata": {},
   "outputs": [],
   "source": [
    "def score(score:str) -> float:\n",
    "    s = score.split(\"/\")\n",
    "    return float(s[0].replace(\",\",\".\"))/float(s[1])"
   ]
  },
  {
   "cell_type": "markdown",
   "metadata": {},
   "source": [
    "## Dictionary with transformations "
   ]
  },
  {
   "cell_type": "code",
   "execution_count": 162,
   "metadata": {},
   "outputs": [],
   "source": [
    "transformations = {\n",
    "    \"recommendation\": lambda r: True if r == \"Polecam\" else False if r == \"Nie polecam\" else None,\n",
    "    \"score\": score,\n",
    "    \"helpful\": int,\n",
    "    \"unhelpful\": int\n",
    "}"
   ]
  },
  {
   "attachments": {},
   "cell_type": "markdown",
   "metadata": {},
   "source": [
    "# URL addess for the first page with opinions"
   ]
  },
  {
   "cell_type": "code",
   "execution_count": 163,
   "metadata": {},
   "outputs": [],
   "source": [
    "product_id = \"108290707\"\n",
    "url = f\"https://www.ceneo.pl/{product_id}#tab=reviews\"\n",
    "all_opinions = []"
   ]
  },
  {
   "attachments": {},
   "cell_type": "markdown",
   "metadata": {},
   "source": [
    "##  Components of single opinion\n",
    "\n",
    "|Component|Selector|Variable|\n",
    "|---------|--------|--------|\n",
    "|opinion ID|[\"data-entry-id\"]|opinion_id|\n",
    "|opinion’s author|span.user-post__author-name|author|\n",
    "|author’s recommendation|span.user-post__author-recomendation em|recommendation|\n",
    "|score expressed in number of stars|span.user-post__score-count|score|\n",
    "|opinion’s content|div.user-post__text|content|\n",
    "|list of product advantages|div.review-feature--positives ~ div.review-feature__item|advantages|\n",
    "|list of product disadvantages|div.review-feature--negatives ~ div.review-feature__item |disadvantages|\n",
    "|how many users think that opinion was helpful|button.vote-yes > span|helpful|\n",
    "|how many users think that opinion was unhelpful|button.vote-no > span|not_helpful|\n",
    "|publishing date|span.user-post__published > time:nth-child(1)[\"datetime\"]|pub_date|\n",
    "|purchase date|span.user-post__published > time:nth-child(2)[\"datetime\"]|pur_date|\n",
    "\n"
   ]
  },
  {
   "attachments": {},
   "cell_type": "markdown",
   "metadata": {},
   "source": [
    "## Extract all opinions about product"
   ]
  },
  {
   "cell_type": "code",
   "execution_count": 164,
   "metadata": {},
   "outputs": [
    {
     "name": "stdout",
     "output_type": "stream",
     "text": [
      "https://www.ceneo.pl/108290707#tab=reviews\n"
     ]
    },
    {
     "ename": "KeyError",
     "evalue": "'recommendation'",
     "output_type": "error",
     "traceback": [
      "\u001b[1;31m---------------------------------------------------------------------------\u001b[0m",
      "\u001b[1;31mKeyError\u001b[0m                                  Traceback (most recent call last)",
      "Cell \u001b[1;32mIn[164], line 14\u001b[0m\n\u001b[0;32m      9\u001b[0m     single_opinion \u001b[38;5;241m=\u001b[39m {  \n\u001b[0;32m     10\u001b[0m         key: extract_content(opinion, \u001b[38;5;241m*\u001b[39mvalue)  \n\u001b[0;32m     11\u001b[0m             \u001b[38;5;28;01mfor\u001b[39;00m key, value \u001b[38;5;129;01min\u001b[39;00m selectors\u001b[38;5;241m.\u001b[39mitems()  \n\u001b[0;32m     12\u001b[0m     }\n\u001b[0;32m     13\u001b[0m     \u001b[38;5;28;01mfor\u001b[39;00m key, value \u001b[38;5;129;01min\u001b[39;00m transformations\u001b[38;5;241m.\u001b[39mitems():\n\u001b[1;32m---> 14\u001b[0m         single_opinion[key] \u001b[38;5;241m=\u001b[39m value(\u001b[43msingle_opinion\u001b[49m\u001b[43m[\u001b[49m\u001b[43mkey\u001b[49m\u001b[43m]\u001b[49m)\n\u001b[0;32m     15\u001b[0m     all_opinions\u001b[38;5;241m.\u001b[39mappend(single_opinion)   \n\u001b[0;32m     16\u001b[0m \u001b[38;5;28;01mtry\u001b[39;00m:  \n",
      "\u001b[1;31mKeyError\u001b[0m: 'recommendation'"
     ]
    }
   ],
   "source": [
    "all_opinions=[]  \n",
    "while(url):  \n",
    "    print(url) \n",
    "    response = requests.get(url)  \n",
    "    response.status_code  \n",
    "    page_dom = BeautifulSoup(response.text, \"html.parser\")  \n",
    "    opinions = page_dom.select(\"div.js_product-review\")  \n",
    "    for opinion in opinions:  \n",
    "        single_opinion = {  \n",
    "            key: extract_content(opinion, *value)  \n",
    "                for key, value in selectors.items()  \n",
    "        }\n",
    "        for key, value in transformations.items():\n",
    "            single_opinion[key] = value(single_opinion[key])\n",
    "        all_opinions.append(single_opinion)   \n",
    "    try:  \n",
    "        url = \"https://www.ceneo.pl\"+extract_content(page_dom,\"a.pagination__next\",\"href\")  \n",
    "    except TypeError:  \n",
    "        url = None\n"
   ]
  },
  {
   "cell_type": "code",
   "execution_count": null,
   "metadata": {},
   "outputs": [],
   "source": [
    "if not os.path.exists(\"opinions\"):  \n",
    "    os.mkdir(\"opinions\")  \n",
    "with open(f\"opinions/{product_id}.json\", \"w\", encoding=\"UTF-8\") as jf:  \n",
    "    json.dump(all_opinions, jf, indent=4 , ensure_ascii=False)"
   ]
  },
  {
   "cell_type": "code",
   "execution_count": null,
   "metadata": {},
   "outputs": [],
   "source": [
    "len(all_opinions)"
   ]
  }
 ],
 "metadata": {
  "kernelspec": {
   "display_name": ".venv",
   "language": "python",
   "name": "python3"
  },
  "language_info": {
   "codemirror_mode": {
    "name": "ipython",
    "version": 3
   },
   "file_extension": ".py",
   "mimetype": "text/x-python",
   "name": "python",
   "nbconvert_exporter": "python",
   "pygments_lexer": "ipython3",
   "version": "3.11.4"
  },
  "orig_nbformat": 4
 },
 "nbformat": 4,
 "nbformat_minor": 2
}
