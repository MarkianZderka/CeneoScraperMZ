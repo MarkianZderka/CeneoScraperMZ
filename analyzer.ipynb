{
 "cells": [
  {
   "cell_type": "markdown",
   "metadata": {},
   "source": [
    "## Imports"
   ]
  },
  {
   "cell_type": "code",
   "execution_count": 20,
   "metadata": {},
   "outputs": [],
   "source": [
    "import os \n",
    "import pandas as pd\n",
    "from matplotlib import pyplot as plt"
   ]
  },
  {
   "cell_type": "markdown",
   "metadata": {},
   "source": [
    "## List all codes of products for which opinions have been collected"
   ]
  },
  {
   "cell_type": "code",
   "execution_count": 2,
   "metadata": {},
   "outputs": [
    {
     "data": {
      "text/plain": [
       "['108290707.json', '58502455.json']"
      ]
     },
     "execution_count": 2,
     "metadata": {},
     "output_type": "execute_result"
    }
   ],
   "source": [
    "print(*[filename.split(\",\")[0] for filename in os.listdir(\"opinions\")], sep=\"\\n\")"
   ]
  },
  {
   "cell_type": "markdown",
   "metadata": {},
   "source": [
    "## Enter code of product aboutt which opinions are to be analyzed\n"
   ]
  },
  {
   "cell_type": "code",
   "execution_count": 4,
   "metadata": {},
   "outputs": [],
   "source": [
    "product_id = input(\"Enter product code: \")"
   ]
  },
  {
   "cell_type": "markdown",
   "metadata": {},
   "source": [
    "# Reading opinions from JSON file to pandas.DataFrame"
   ]
  },
  {
   "cell_type": "code",
   "execution_count": 5,
   "metadata": {},
   "outputs": [],
   "source": [
    "opinions = pd.read_json(f\"opinions/{product_id}.json\")"
   ]
  },
  {
   "cell_type": "markdown",
   "metadata": {},
   "source": [
    "## Basic Statistics"
   ]
  },
  {
   "cell_type": "code",
   "execution_count": 16,
   "metadata": {},
   "outputs": [
    {
     "data": {
      "text/plain": [
       "4.42"
      ]
     },
     "execution_count": 16,
     "metadata": {},
     "output_type": "execute_result"
    }
   ],
   "source": [
    "max_score = 5\n",
    "opinion_count = opinions.shape[0]\n",
    "pros_count = opinions.pros.astype(bool).sum()\n",
    "cons_count = opinions.cons.astype(bool).sum()\n",
    "average_score = (opinions.score.mean() * max_score).round(2)\n",
    "average_score"
   ]
  },
  {
   "cell_type": "markdown",
   "metadata": {},
   "source": [
    "## Basic Charts"
   ]
  },
  {
   "cell_type": "code",
   "execution_count": 21,
   "metadata": {},
   "outputs": [
    {
     "data": {
      "text/plain": [
       "<Axes: xlabel='score'>"
      ]
     },
     "execution_count": 21,
     "metadata": {},
     "output_type": "execute_result"
    },
    {
     "data": {
      "image/png": "[encoded data removed]",
      "text/plain": [
       "<Figure size 640x480 with 1 Axes>"
      ]
     },
     "metadata": {},
     "output_type": "display_data"
    }
   ],
   "source": [
    "score_distribution = opinions.score.value_counts()\n",
    "score_distribution.plot.bar()\n",
    "\n"
   ]
  },
  {
   "cell_type": "code",
   "execution_count": 6,
   "metadata": {},
   "outputs": [
    {
     "data": {
      "text/html": [
       "<div>\n",
       "<style scoped>\n",
       "    .dataframe tbody tr th:only-of-type {\n",
       "        vertical-align: middle;\n",
       "    }\n",
       "\n",
       "    .dataframe tbody tr th {\n",
       "        vertical-align: top;\n",
       "    }\n",
       "\n",
       "    .dataframe thead th {\n",
       "        text-align: right;\n",
       "    }\n",
       "</style>\n",
       "<table border=\"1\" class=\"dataframe\">\n",
       "  <thead>\n",
       "    <tr style=\"text-align: right;\">\n",
       "      <th></th>\n",
       "      <th>opinion_id</th>\n",
       "      <th>author</th>\n",
       "      <th>authors_recommendation</th>\n",
       "      <th>score</th>\n",
       "      <th>content</th>\n",
       "      <th>pros</th>\n",
       "      <th>cons</th>\n",
       "      <th>helpful</th>\n",
       "      <th>unhelpful</th>\n",
       "      <th>publish_date</th>\n",
       "      <th>purchase_date</th>\n",
       "    </tr>\n",
       "  </thead>\n",
       "  <tbody>\n",
       "    <tr>\n",
       "      <th>0</th>\n",
       "      <td>14697095</td>\n",
       "      <td>c...n</td>\n",
       "      <td>1.0</td>\n",
       "      <td>1.0</td>\n",
       "      <td>just THE ONE :)</td>\n",
       "      <td>[intensity, quality, durability, smell]</td>\n",
       "      <td>[]</td>\n",
       "      <td>1</td>\n",
       "      <td>1</td>\n",
       "      <td>2021-07-08 10:50:02</td>\n",
       "      <td>2021-07-02 01:15:06</td>\n",
       "    </tr>\n",
       "    <tr>\n",
       "      <th>1</th>\n",
       "      <td>12717167</td>\n",
       "      <td>d...r</td>\n",
       "      <td>1.0</td>\n",
       "      <td>1.0</td>\n",
       "      <td>10/10</td>\n",
       "      <td>[]</td>\n",
       "      <td>[]</td>\n",
       "      <td>3</td>\n",
       "      <td>2</td>\n",
       "      <td>2020-06-25 23:17:44</td>\n",
       "      <td>2020-05-22 08:31:58</td>\n",
       "    </tr>\n",
       "    <tr>\n",
       "      <th>2</th>\n",
       "      <td>14098022</td>\n",
       "      <td>Andrzej</td>\n",
       "      <td>1.0</td>\n",
       "      <td>1.0</td>\n",
       "      <td>Before purchasing, I discovered this fragrance...</td>\n",
       "      <td>[intensity, quality, durability, smell]</td>\n",
       "      <td>[]</td>\n",
       "      <td>2</td>\n",
       "      <td>2</td>\n",
       "      <td>2021-03-11 13:13:36</td>\n",
       "      <td>2021-03-03 16:41:31</td>\n",
       "    </tr>\n",
       "    <tr>\n",
       "      <th>3</th>\n",
       "      <td>12747388</td>\n",
       "      <td>m...9</td>\n",
       "      <td>1.0</td>\n",
       "      <td>1.0</td>\n",
       "      <td>Revelation. Beautiful and noticeable scent eve...</td>\n",
       "      <td>[price, intensity, quality, durability, smell]</td>\n",
       "      <td>[]</td>\n",
       "      <td>0</td>\n",
       "      <td>0</td>\n",
       "      <td>2020-07-01 23:20:09</td>\n",
       "      <td>2020-06-20 23:01:02</td>\n",
       "    </tr>\n",
       "    <tr>\n",
       "      <th>4</th>\n",
       "      <td>11310897</td>\n",
       "      <td>B. D</td>\n",
       "      <td>1.0</td>\n",
       "      <td>1.0</td>\n",
       "      <td>I've been thinking about buying them for a lon...</td>\n",
       "      <td>[]</td>\n",
       "      <td>[]</td>\n",
       "      <td>1</td>\n",
       "      <td>3</td>\n",
       "      <td>2019-11-22 13:23:36</td>\n",
       "      <td>2019-11-19 08:28:24</td>\n",
       "    </tr>\n",
       "    <tr>\n",
       "      <th>...</th>\n",
       "      <td>...</td>\n",
       "      <td>...</td>\n",
       "      <td>...</td>\n",
       "      <td>...</td>\n",
       "      <td>...</td>\n",
       "      <td>...</td>\n",
       "      <td>...</td>\n",
       "      <td>...</td>\n",
       "      <td>...</td>\n",
       "      <td>...</td>\n",
       "      <td>...</td>\n",
       "    </tr>\n",
       "    <tr>\n",
       "      <th>90</th>\n",
       "      <td>17939657</td>\n",
       "      <td>j...b</td>\n",
       "      <td>1.0</td>\n",
       "      <td>1.0</td>\n",
       "      <td>oh, key</td>\n",
       "      <td>[intensity, quality, durability, smell]</td>\n",
       "      <td>[]</td>\n",
       "      <td>0</td>\n",
       "      <td>0</td>\n",
       "      <td>2023-09-26 14:15:18</td>\n",
       "      <td>2023-09-21 05:55:39</td>\n",
       "    </tr>\n",
       "    <tr>\n",
       "      <th>91</th>\n",
       "      <td>15494475</td>\n",
       "      <td>V...a</td>\n",
       "      <td>1.0</td>\n",
       "      <td>1.0</td>\n",
       "      <td>cool</td>\n",
       "      <td>[]</td>\n",
       "      <td>[]</td>\n",
       "      <td>0</td>\n",
       "      <td>0</td>\n",
       "      <td>2022-01-03 13:21:27</td>\n",
       "      <td>2021-12-29 19:10:59</td>\n",
       "    </tr>\n",
       "    <tr>\n",
       "      <th>92</th>\n",
       "      <td>3364774</td>\n",
       "      <td>Użytkownik Ceneo</td>\n",
       "      <td>1.0</td>\n",
       "      <td>0.9</td>\n",
       "      <td>4.5/5</td>\n",
       "      <td>[]</td>\n",
       "      <td>[]</td>\n",
       "      <td>0</td>\n",
       "      <td>0</td>\n",
       "      <td>2015-10-13 13:01:30</td>\n",
       "      <td>None</td>\n",
       "    </tr>\n",
       "    <tr>\n",
       "      <th>93</th>\n",
       "      <td>2833784</td>\n",
       "      <td>Użytkownik Ceneo</td>\n",
       "      <td>1.0</td>\n",
       "      <td>1.0</td>\n",
       "      <td>5.0/5</td>\n",
       "      <td>[]</td>\n",
       "      <td>[]</td>\n",
       "      <td>0</td>\n",
       "      <td>0</td>\n",
       "      <td>2014-11-28 16:12:51</td>\n",
       "      <td>None</td>\n",
       "    </tr>\n",
       "    <tr>\n",
       "      <th>94</th>\n",
       "      <td>18433628</td>\n",
       "      <td>kamil-lagowski1*****</td>\n",
       "      <td>0.0</td>\n",
       "      <td>0.1</td>\n",
       "      <td>A fake, not a tester.</td>\n",
       "      <td>[]</td>\n",
       "      <td>[intensity, quality, durability, smell]</td>\n",
       "      <td>0</td>\n",
       "      <td>0</td>\n",
       "      <td>2024-02-24 23:59:26</td>\n",
       "      <td>2024-01-09 16:10:37</td>\n",
       "    </tr>\n",
       "  </tbody>\n",
       "</table>\n",
       "<p>95 rows × 11 columns</p>\n",
       "</div>"
      ],
      "text/plain": [
       "    opinion_id                author  authors_recommendation  score  \\\n",
       "0     14697095                 c...n                     1.0    1.0   \n",
       "1     12717167                 d...r                     1.0    1.0   \n",
       "2     14098022               Andrzej                     1.0    1.0   \n",
       "3     12747388                 m...9                     1.0    1.0   \n",
       "4     11310897                  B. D                     1.0    1.0   \n",
       "..         ...                   ...                     ...    ...   \n",
       "90    17939657                 j...b                     1.0    1.0   \n",
       "91    15494475                 V...a                     1.0    1.0   \n",
       "92     3364774      Użytkownik Ceneo                     1.0    0.9   \n",
       "93     2833784      Użytkownik Ceneo                     1.0    1.0   \n",
       "94    18433628  kamil-lagowski1*****                     0.0    0.1   \n",
       "\n",
       "                                              content  \\\n",
       "0                                     just THE ONE :)   \n",
       "1                                               10/10   \n",
       "2   Before purchasing, I discovered this fragrance...   \n",
       "3   Revelation. Beautiful and noticeable scent eve...   \n",
       "4   I've been thinking about buying them for a lon...   \n",
       "..                                                ...   \n",
       "90                                            oh, key   \n",
       "91                                               cool   \n",
       "92                                              4.5/5   \n",
       "93                                              5.0/5   \n",
       "94                              A fake, not a tester.   \n",
       "\n",
       "                                              pros  \\\n",
       "0          [intensity, quality, durability, smell]   \n",
       "1                                               []   \n",
       "2          [intensity, quality, durability, smell]   \n",
       "3   [price, intensity, quality, durability, smell]   \n",
       "4                                               []   \n",
       "..                                             ...   \n",
       "90         [intensity, quality, durability, smell]   \n",
       "91                                              []   \n",
       "92                                              []   \n",
       "93                                              []   \n",
       "94                                              []   \n",
       "\n",
       "                                       cons  helpful  unhelpful  \\\n",
       "0                                        []        1          1   \n",
       "1                                        []        3          2   \n",
       "2                                        []        2          2   \n",
       "3                                        []        0          0   \n",
       "4                                        []        1          3   \n",
       "..                                      ...      ...        ...   \n",
       "90                                       []        0          0   \n",
       "91                                       []        0          0   \n",
       "92                                       []        0          0   \n",
       "93                                       []        0          0   \n",
       "94  [intensity, quality, durability, smell]        0          0   \n",
       "\n",
       "           publish_date        purchase_date  \n",
       "0   2021-07-08 10:50:02  2021-07-02 01:15:06  \n",
       "1   2020-06-25 23:17:44  2020-05-22 08:31:58  \n",
       "2   2021-03-11 13:13:36  2021-03-03 16:41:31  \n",
       "3   2020-07-01 23:20:09  2020-06-20 23:01:02  \n",
       "4   2019-11-22 13:23:36  2019-11-19 08:28:24  \n",
       "..                  ...                  ...  \n",
       "90  2023-09-26 14:15:18  2023-09-21 05:55:39  \n",
       "91  2022-01-03 13:21:27  2021-12-29 19:10:59  \n",
       "92  2015-10-13 13:01:30                 None  \n",
       "93  2014-11-28 16:12:51                 None  \n",
       "94  2024-02-24 23:59:26  2024-01-09 16:10:37  \n",
       "\n",
       "[95 rows x 11 columns]"
      ]
     },
     "execution_count": 6,
     "metadata": {},
     "output_type": "execute_result"
    }
   ],
   "source": [
    "opinions"
   ]
  }
 ],
 "metadata": {
  "kernelspec": {
   "display_name": ".venv",
   "language": "python",
   "name": "python3"
  },
  "language_info": {
   "codemirror_mode": {
    "name": "ipython",
    "version": 3
   },
   "file_extension": ".py",
   "mimetype": "text/x-python",
   "name": "python",
   "nbconvert_exporter": "python",
   "pygments_lexer": "ipython3",
   "version": "3.11.4"
  }
 },
 "nbformat": 4,
 "nbformat_minor": 2
}
